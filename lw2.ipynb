{
 "cells": [
  {
   "cell_type": "code",
   "execution_count": 22,
   "source": [
    "import numpy as np\n",
    "from scipy import stats as sts\n",
    "from scipy.stats import chi2_contingency\n",
    "import matplotlib.pyplot as plt\n",
    "%matplotlib inline\n",
    "\n",
    "from scipy.stats import chi2_contingency"
   ],
   "outputs": [],
   "metadata": {}
  },
  {
   "cell_type": "markdown",
   "source": [
    "Постановка задачи\n",
    "Необходимо смоделировать 2 количественных признака для трех случаев:\n",
    "\n",
    "X, Y - гауссовское распределение, имеют монотонную зависимость\n",
    "X, Y - негауссовское распределение, имеют нелинейную монотонную зависимость\n",
    "X, Y - негауссовское распределение, имеют нелинейную немонотонную зависимость\n",
    "\n",
    "Для полученных данных проверить гипотезу о зависимости признаков тремя критериями:\n",
    "\n",
    "Выборочный коэффициент корреляции\n",
    "Критерий спирмана\n",
    "Критерий Хи-квадрат Пирсона\n",
    "Вычислить частоту ошибок второго рода для каждого случая и сравнить полученные результаты.\n",
    "\n",
    "Функции генерации выборок"
   ],
   "metadata": {}
  },
  {
   "cell_type": "code",
   "execution_count": 23,
   "source": [
    "def gaussian_linear_monotone(mu, sigma, n):\n",
    "    x = np.random.normal(mu, sigma, n)\n",
    "    y = 0.4 * x + 0.6 * np.random.normal(mu, sigma, n)\n",
    "    return x, y\n",
    "\n",
    "def notgaussian_notlinear_monotone(mu, sigma, n):\n",
    "    x = np.random.normal(mu, sigma, n)\n",
    "    z = np.random.normal(mu, sigma, n)\n",
    "    y = np.exp(0.17*x) + z \n",
    "    return x, y\n",
    "\n",
    "def notgaussian_notlinear_notmonotone(mu, sigma, n):\n",
    "    x = np.random.normal(mu, sigma, n)\n",
    "    y = 0.00001 *np.sin(x)+ 0.01*np.sin(np.random.normal(mu, sigma, n))\n",
    "    return x, y"
   ],
   "outputs": [],
   "metadata": {}
  },
  {
   "cell_type": "code",
   "execution_count": 24,
   "source": [
    "x1, y1 = gaussian_linear_monotone(0, 10, 100)\n",
    "plt.scatter(x1, y1)"
   ],
   "outputs": [
    {
     "output_type": "execute_result",
     "data": {
      "text/plain": [
       "<matplotlib.collections.PathCollection at 0x7f0627475f40>"
      ]
     },
     "metadata": {},
     "execution_count": 24
    },
    {
     "output_type": "display_data",
     "data": {
      "image/png": "[encoded data removed]",
      "text/plain": [
       "<Figure size 432x288 with 1 Axes>"
      ]
     },
     "metadata": {
      "needs_background": "light"
     }
    }
   ],
   "metadata": {}
  },
  {
   "cell_type": "code",
   "execution_count": 25,
   "source": [
    "x2, y2 = notgaussian_notlinear_monotone(0, 10, 100)\n",
    "plt.scatter(x2, y2)"
   ],
   "outputs": [
    {
     "output_type": "execute_result",
     "data": {
      "text/plain": [
       "<matplotlib.collections.PathCollection at 0x7f062744b640>"
      ]
     },
     "metadata": {},
     "execution_count": 25
    },
    {
     "output_type": "display_data",
     "data": {
      "image/png": "[encoded data removed]",
      "text/plain": [
       "<Figure size 432x288 with 1 Axes>"
      ]
     },
     "metadata": {
      "needs_background": "light"
     }
    }
   ],
   "metadata": {}
  },
  {
   "cell_type": "code",
   "execution_count": 26,
   "source": [
    "x3, y3 = notgaussian_notlinear_notmonotone(0, 10, 100)\n",
    "plt.scatter(x3, y3)"
   ],
   "outputs": [
    {
     "output_type": "execute_result",
     "data": {
      "text/plain": [
       "<matplotlib.collections.PathCollection at 0x7f062742e790>"
      ]
     },
     "metadata": {},
     "execution_count": 26
    },
    {
     "output_type": "display_data",
     "data": {
      "image/png": "[encoded data removed]",
      "text/plain": [
       "<Figure size 432x288 with 1 Axes>"
      ]
     },
     "metadata": {
      "needs_background": "light"
     }
    }
   ],
   "metadata": {}
  },
  {
   "cell_type": "markdown",
   "source": [
    "Выборочный коэффициент корреляции"
   ],
   "metadata": {}
  },
  {
   "cell_type": "code",
   "execution_count": 27,
   "source": [
    "# Implementation of criteria(test)\n",
    "def correlation_test(x, y, alpha=0.05):\n",
    "    n = len(x)\n",
    "    x_mean = x.mean()\n",
    "    y_mean = y.mean()\n",
    "\n",
    "    # Pearson’s correlation coefficient.\n",
    "    r = (1/n * np.sum((x - x_mean)*(y - y_mean))) / (1/n*np.sum((x - x_mean)**2) * 1/n*np.sum((y - y_mean)**2))**0.5\n",
    "    t = n ** 0.5 * r\n",
    "    # Two-tailed p-value\n",
    "    p_value = np.min(np.array([2 * sts.norm.cdf(t), 2 - 2 * sts.norm.cdf(t)]), axis=0)\n",
    "    h0 = 0 # default value\n",
    "    if (p_value > alpha / 2) and (p_value < (1 - (alpha / 2))):\n",
    "        h0 = 0 # Accept H0\n",
    "    else:\n",
    "        h0 = 1 # Reject H0\n",
    "    return r, p_value, h0"
   ],
   "outputs": [],
   "metadata": {}
  },
  {
   "cell_type": "code",
   "execution_count": 28,
   "source": [
    "print(correlation_test(x1, y1))\n",
    "sts.pearsonr(x1, y1)"
   ],
   "outputs": [
    {
     "output_type": "stream",
     "name": "stdout",
     "text": [
      "(0.5129919485321243, 2.8986613309633924e-07, 1)\n"
     ]
    },
    {
     "output_type": "execute_result",
     "data": {
      "text/plain": [
       "(0.5129919485321243, 4.8411856691691026e-08)"
      ]
     },
     "metadata": {},
     "execution_count": 28
    }
   ],
   "metadata": {}
  },
  {
   "cell_type": "code",
   "execution_count": 29,
   "source": [
    "print(correlation_test(x2, y2))\n",
    "sts.pearsonr(x2, y2)"
   ],
   "outputs": [
    {
     "output_type": "stream",
     "name": "stdout",
     "text": [
      "(0.4277191374836531, 1.8926608631897324e-05, 1)\n"
     ]
    },
    {
     "output_type": "execute_result",
     "data": {
      "text/plain": [
       "(0.4277191374836532, 9.052725430546927e-06)"
      ]
     },
     "metadata": {},
     "execution_count": 29
    }
   ],
   "metadata": {}
  },
  {
   "cell_type": "code",
   "execution_count": 30,
   "source": [
    "print(correlation_test(x3, y3))\n",
    "sts.pearsonr(x3, y3)"
   ],
   "outputs": [
    {
     "output_type": "stream",
     "name": "stdout",
     "text": [
      "(0.012655561481323865, 0.8992921286275564, 0)\n"
     ]
    },
    {
     "output_type": "execute_result",
     "data": {
      "text/plain": [
       "(0.012655561481323846, 0.9005477069007741)"
      ]
     },
     "metadata": {},
     "execution_count": 30
    }
   ],
   "metadata": {}
  },
  {
   "cell_type": "markdown",
   "source": [
    "Критерий спирмана"
   ],
   "metadata": {}
  },
  {
   "cell_type": "code",
   "execution_count": 31,
   "source": [
    "# Implementation of criteria(test)\n",
    "def spearman_test(x, y, alpha=0.05):\n",
    "    n = len(x)\n",
    "    x_ranks = sts.rankdata(x)\n",
    "    y_ranks = sts.rankdata(y)\n",
    "\n",
    "    s = np.sum((x_ranks - y_ranks)**2)\n",
    "    # Spearman correlation coefficient\n",
    "    r = 1 - 6*s/(n**3 - n)\n",
    "    t = (n-1)**0.5 * r\n",
    "    p_value = np.min(np.array([2 * sts.norm.cdf(t), 2 - 2 * sts.norm.cdf(t)]), axis=0)\n",
    "    h0 = 0 # default value\n",
    "    if (p_value > alpha / 2) and (p_value < (1 - alpha / 2)):\n",
    "        h0 = 0 # Accept H0\n",
    "    else:\n",
    "        h0 = 1 # Reject H0\n",
    "    return r, p_value, h0"
   ],
   "outputs": [],
   "metadata": {}
  },
  {
   "cell_type": "code",
   "execution_count": 32,
   "source": [
    "print(spearman_test(x1, y1))\n",
    "print(sts.spearmanr(x1, y1))"
   ],
   "outputs": [
    {
     "output_type": "stream",
     "name": "stdout",
     "text": [
      "(0.5202760276027603, 2.2586778447575284e-07, 1)\n",
      "SpearmanrResult(correlation=0.5202760276027603, pvalue=2.8890155912767044e-08)\n"
     ]
    }
   ],
   "metadata": {}
  },
  {
   "cell_type": "code",
   "execution_count": 33,
   "source": [
    "print(spearman_test(x2, y2))\n",
    "print(sts.spearmanr(x2, y2))"
   ],
   "outputs": [
    {
     "output_type": "stream",
     "name": "stdout",
     "text": [
      "(0.38828682868286823, 0.00011181731532694528, 1)\n",
      "SpearmanrResult(correlation=0.38828682868286823, pvalue=6.555875383325553e-05)\n"
     ]
    }
   ],
   "metadata": {}
  },
  {
   "cell_type": "code",
   "execution_count": 34,
   "source": [
    "print(spearman_test(x3, y3))\n",
    "print(sts.spearmanr(x3, y3))"
   ],
   "outputs": [
    {
     "output_type": "stream",
     "name": "stdout",
     "text": [
      "(0.042988298829882976, 0.6688490361393766, 0)\n",
      "SpearmanrResult(correlation=0.04298829882988299, pvalue=0.671073827267348)\n"
     ]
    }
   ],
   "metadata": {}
  },
  {
   "cell_type": "markdown",
   "source": [
    "Критерий Хи-квадрат Пирсона\n",
    "\n",
    "Критерий Хи-квадрат Пирсона используется, если признаки ненормальны, подозревается\n",
    "немонотонная нелинейная зависимость."
   ],
   "metadata": {}
  },
  {
   "cell_type": "code",
   "execution_count": 35,
   "source": [
    "def to_nominal(x, k):\n",
    "    x_sort = np.sort(x)\n",
    "    x_in_scale = np.zeros(k)\n",
    "    slices = np.linspace(x_sort[0], x_sort[-1], k+1)\n",
    "    for i in range(k):\n",
    "        x_part = x[x >= slices[i]]\n",
    "        x_count = (x_part <= slices[i+1]).sum()\n",
    "        x_in_scale[i] = x_count\n",
    "    return x_in_scale"
   ],
   "outputs": [],
   "metadata": {}
  },
  {
   "cell_type": "code",
   "execution_count": 36,
   "source": [
    "# Implementation of criteria(test)\n",
    "def pirson_test(x, y, alpha=0.05):\n",
    "    n = len(x)\n",
    "    x_nom, y_nom = to_nominal(x, 5), to_nominal(y, 5)\n",
    "    matrix = np.concatenate(([x_nom], [y_nom]))\n",
    "    chi_square_value = 0\n",
    "\n",
    "    for i in range(2):\n",
    "        for j in range(len(x_nom)):\n",
    "            chi_square_value += (matrix[i][j] - (np.sum(matrix[i]) * np.sum(matrix[:,j]) / np.sum(matrix))) ** 2 \\\n",
    "            / (np.sum(matrix[i]) * np.sum(matrix[:,j]) / np.sum(matrix))\n",
    "\n",
    "    # Cumulative distribution function\n",
    "    p_value = 1 - sts.chi2.cdf(chi_square_value, (len(x_nom) - 1))\n",
    "    h0 = 0 # default value\n",
    "    if p_value > alpha:\n",
    "        h0 = 0 # Accept H0\n",
    "    else:\n",
    "        h0 = 1 # Reject H0\n",
    "    return chi_square_value, p_value, h0"
   ],
   "outputs": [],
   "metadata": {}
  },
  {
   "cell_type": "code",
   "execution_count": 37,
   "source": [
    "print(pirson_test(x1, y1))\n",
    "chi2_contingency([to_nominal(x1, 5), to_nominal(y1, 5)])\n",
    "\n",
    "# - chi2float\n",
    "#       The test statistic.\n",
    "\n",
    "# - pfloat\n",
    "#       The p-value of the test\n",
    "\n",
    "# - dofint\n",
    "#       Degrees of freedom\n",
    "\n",
    "# - expected\n",
    "#       The expected frequencies, based on the marginal sums of the table."
   ],
   "outputs": [
    {
     "output_type": "stream",
     "name": "stdout",
     "text": [
      "(12.200505416691952, 0.015920903746079462, 1)\n"
     ]
    },
    {
     "output_type": "execute_result",
     "data": {
      "text/plain": [
       "(12.200505416691952,\n",
       " 0.015920903746079428,\n",
       " 4,\n",
       " array([[ 6.5, 24.5, 44.5, 19. ,  5.5],\n",
       "        [ 6.5, 24.5, 44.5, 19. ,  5.5]]))"
      ]
     },
     "metadata": {},
     "execution_count": 37
    }
   ],
   "metadata": {}
  },
  {
   "cell_type": "code",
   "execution_count": 38,
   "source": [
    "print(pirson_test(x2, y2))\n",
    "chi2_contingency([to_nominal(x2, 5), to_nominal(y2, 5)])"
   ],
   "outputs": [
    {
     "output_type": "stream",
     "name": "stdout",
     "text": [
      "(148.93805309734512, 0.0, 1)\n"
     ]
    },
    {
     "output_type": "execute_result",
     "data": {
      "text/plain": [
       "(148.93805309734512,\n",
       " 3.437806634699888e-31,\n",
       " 4,\n",
       " array([[56.5, 24. , 14. ,  4.5,  1. ],\n",
       "        [56.5, 24. , 14. ,  4.5,  1. ]]))"
      ]
     },
     "metadata": {},
     "execution_count": 38
    }
   ],
   "metadata": {}
  },
  {
   "cell_type": "code",
   "execution_count": 39,
   "source": [
    "print(pirson_test(x3, y3))\n",
    "chi2_contingency([to_nominal(x3, 5), to_nominal(y3, 5)])"
   ],
   "outputs": [
    {
     "output_type": "stream",
     "name": "stdout",
     "text": [
      "(65.47450325159303, 2.0439205883349132e-13, 1)\n"
     ]
    },
    {
     "output_type": "execute_result",
     "data": {
      "text/plain": [
       "(65.47450325159303,\n",
       " 2.0440991918795224e-13,\n",
       " 4,\n",
       " array([[21. , 13.5, 17. , 28.5, 20. ],\n",
       "        [21. , 13.5, 17. , 28.5, 20. ]]))"
      ]
     },
     "metadata": {},
     "execution_count": 39
    }
   ],
   "metadata": {}
  },
  {
   "cell_type": "markdown",
   "source": [
    "Подсчёт ошибок 2-го рода"
   ],
   "metadata": {}
  },
  {
   "cell_type": "code",
   "execution_count": 40,
   "source": [
    "def beta_errors(num_experiments, f, mu, sigma, size):\n",
    "    correlation  = []\n",
    "    spearman_res = []\n",
    "    pirson_res   = []\n",
    "    for i in range(num_experiments):\n",
    "        x, y = f(mu, sigma, size)\n",
    "        correlation.append(correlation_test(x, y)[2])\n",
    "        spearman_res.append(spearman_test(x, y)[2])\n",
    "        pirson_res.append(pirson_test(x, y)[2])\n",
    "\n",
    "    cor_freq        = (num_experiments - sum(correlation))  / num_experiments\n",
    "    spearman_freq   = (num_experiments - sum(spearman_res)) / num_experiments\n",
    "    pirson_freq     = (num_experiments - sum(pirson_res))   / num_experiments\n",
    "    \n",
    "    return cor_freq, spearman_freq, pirson_freq"
   ],
   "outputs": [],
   "metadata": {}
  },
  {
   "cell_type": "code",
   "execution_count": 41,
   "source": [
    "mu    = 5\n",
    "sigma = 10\n",
    "size  = 100\n",
    "num_experiments = 2000"
   ],
   "outputs": [],
   "metadata": {}
  },
  {
   "cell_type": "code",
   "execution_count": 42,
   "source": [
    "cor_freq, spearman_freq, chi2_pirson_freq = beta_errors(num_experiments, gaussian_linear_monotone, mu, sigma, size)\n",
    "print(\"gaussian_linear_monotone\")\n",
    "print(\"correlation_test=\", cor_freq)\n",
    "print(\"spearman_test=\", spearman_freq)\n",
    "print(\"chi2_pirson_test=\", chi2_pirson_freq)\n"
   ],
   "outputs": [
    {
     "output_type": "stream",
     "name": "stdout",
     "text": [
      "gaussian_linear_monotone\n",
      "correlation_test= 0.0\n",
      "spearman_test= 0.0005\n",
      "chi2_pirson_test= 0.616\n"
     ]
    }
   ],
   "metadata": {}
  },
  {
   "cell_type": "code",
   "execution_count": 43,
   "source": [
    "cor_freq, spearman_freq, pirson_freq = beta_errors(num_experiments, notgaussian_notlinear_monotone, mu, sigma, size)\n",
    "print(\"notgaussian_notlinear_monotone\")\n",
    "print(\"correlation_test=\", cor_freq)\n",
    "print(\"spearman_test=\", spearman_freq)\n",
    "print(\"chi2_pirson_test=\", chi2_pirson_freq)"
   ],
   "outputs": [
    {
     "output_type": "stream",
     "name": "stdout",
     "text": [
      "notgaussian_notlinear_monotone\n",
      "correlation_test= 0.0005\n",
      "spearman_test= 0.0025\n",
      "chi2_pirson_test= 0.616\n"
     ]
    }
   ],
   "metadata": {}
  },
  {
   "cell_type": "code",
   "execution_count": 44,
   "source": [
    "cor_freq, spearman_freq, chi2_pirson_freq = beta_errors(num_experiments, notgaussian_notlinear_notmonotone, mu, sigma, size)\n",
    "print(\"notgaussian_notlinear_notmonotone\")\n",
    "print(\"correlation_test=\", cor_freq)\n",
    "print(\"spearman_test=\", spearman_freq)\n",
    "print(\"chi2_pirson_test=\", chi2_pirson_freq)"
   ],
   "outputs": [
    {
     "output_type": "stream",
     "name": "stdout",
     "text": [
      "notgaussian_notlinear_notmonotone\n",
      "correlation_test= 0.9505\n",
      "spearman_test= 0.951\n",
      "chi2_pirson_test= 0.0\n"
     ]
    }
   ],
   "metadata": {}
  }
 ],
 "metadata": {
  "orig_nbformat": 4,
  "language_info": {
   "name": "python",
   "version": "3.8.10",
   "mimetype": "text/x-python",
   "codemirror_mode": {
    "name": "ipython",
    "version": 3
   },
   "pygments_lexer": "ipython3",
   "nbconvert_exporter": "python",
   "file_extension": ".py"
  },
  "kernelspec": {
   "name": "python3",
   "display_name": "Python 3.8.10 64-bit"
  },
  "interpreter": {
   "hash": "916dbcbb3f70747c44a77c7bcd40155683ae19c65e1c03b4aa3499c5328201f1"
  }
 },
 "nbformat": 4,
 "nbformat_minor": 2
}