{
 "cells": [
  {
   "cell_type": "code",
   "execution_count": 6,
   "source": [
    "import numpy as np\n",
    "from scipy import stats as sts\n",
    "from scipy.stats import chi2_contingency\n",
    "import matplotlib.pyplot as plt\n",
    "%matplotlib inline\n",
    "\n",
    "from scipy.stats import chi2_contingency"
   ],
   "outputs": [],
   "metadata": {}
  },
  {
   "cell_type": "markdown",
   "source": [
    "Постановка задачи\n",
    "Необходимо смоделировать 2 количественных признака для трех случаев:\n",
    "\n",
    "X, Y - гауссовское распределение, имеют монотонную зависимость\n",
    "X, Y - негауссовское распределение, имеют линейную монотонную зависимость\n",
    "X, Y - негауссовское распределение, имеют неоинейную немонотонную зависимость\n",
    "\n",
    "Для полученных данных проверить гипотезу о зависимости признаков тремя критериями:\n",
    "\n",
    "Выборочный коэффициент корреляции\n",
    "Критерий спирмана\n",
    "Критерий Хи-квадрат Пирсона\n",
    "Вычислить частоту ошибок второго рода для каждого случая и сравнить полученные результаты.\n",
    "\n",
    "Функции генерации выборок"
   ],
   "metadata": {}
  },
  {
   "cell_type": "code",
   "execution_count": 33,
   "source": [
    "def gaussian_linear_monotone(mu, sigma, n):\n",
    "    x = np.random.normal(mu, sigma, n)\n",
    "    y = 0.4 * x + 0.6 * np.random.normal(mu, sigma, n)\n",
    "    return x, y\n",
    "\n",
    "def notgaussian_notlinear_monotone(mu, sigma, n):\n",
    "    x = np.random.normal(mu, sigma, n)\n",
    "    y = np.exp(0.004 * x) + 0.08 * x + np.random.normal(mu * 2, sigma * 10, n)\n",
    "    return x, y\n",
    "\n",
    "def notgaussian_notlinear_notmonotone(mu, sigma, n):\n",
    "    x = np.random.normal(mu, sigma, n)\n",
    "    y = 0.00009 * np.sin(x)+ 0.02 * np.sin(np.random.normal(mu, sigma, n))\n",
    "    return x, y"
   ],
   "outputs": [],
   "metadata": {}
  },
  {
   "cell_type": "code",
   "execution_count": 34,
   "source": [
    "x1, y1 = gaussian_linear_monotone(0, 10, 100)\n",
    "plt.scatter(x1, y1)"
   ],
   "outputs": [
    {
     "output_type": "execute_result",
     "data": {
      "text/plain": [
       "<matplotlib.collections.PathCollection at 0x7f0a3713bd30>"
      ]
     },
     "metadata": {},
     "execution_count": 34
    },
    {
     "output_type": "display_data",
     "data": {
      "image/png": "[encoded data removed]",
      "text/plain": [
       "<Figure size 432x288 with 1 Axes>"
      ]
     },
     "metadata": {
      "needs_background": "light"
     }
    }
   ],
   "metadata": {}
  },
  {
   "cell_type": "code",
   "execution_count": 35,
   "source": [
    "x2, y2 = notgaussian_notlinear_monotone(0, 10, 100)\n",
    "plt.scatter(x2, y2)"
   ],
   "outputs": [
    {
     "output_type": "execute_result",
     "data": {
      "text/plain": [
       "<matplotlib.collections.PathCollection at 0x7f0a370bb1f0>"
      ]
     },
     "metadata": {},
     "execution_count": 35
    },
    {
     "output_type": "display_data",
     "data": {
      "image/png": "[encoded data removed]",
      "text/plain": [
       "<Figure size 432x288 with 1 Axes>"
      ]
     },
     "metadata": {
      "needs_background": "light"
     }
    }
   ],
   "metadata": {}
  },
  {
   "cell_type": "code",
   "execution_count": 36,
   "source": [
    "x3, y3 = notgaussian_notlinear_notmonotone(0, 10, 100)\n",
    "plt.scatter(x3, y3)"
   ],
   "outputs": [
    {
     "output_type": "execute_result",
     "data": {
      "text/plain": [
       "<matplotlib.collections.PathCollection at 0x7f0a3708cfa0>"
      ]
     },
     "metadata": {},
     "execution_count": 36
    },
    {
     "output_type": "display_data",
     "data": {
      "image/png": "[encoded data removed]",
      "text/plain": [
       "<Figure size 432x288 with 1 Axes>"
      ]
     },
     "metadata": {
      "needs_background": "light"
     }
    }
   ],
   "metadata": {}
  },
  {
   "cell_type": "markdown",
   "source": [
    "Выборочный коэффициент корреляции"
   ],
   "metadata": {}
  },
  {
   "cell_type": "code",
   "execution_count": 56,
   "source": [
    "def correlation_test(x, y, alpha=0.05):\n",
    "    n = len(x)\n",
    "    x_mean = x.mean()\n",
    "    y_mean = y.mean()\n",
    "\n",
    "    # Pearson’s correlation coefficient.\n",
    "    r = (1/n * np.sum((x - x_mean)*(y - y_mean))) / (1/n*np.sum((x - x_mean)**2) * 1/n*np.sum((y - y_mean)**2))**0.5\n",
    "    t = n ** 0.5 * r\n",
    "    # Two-tailed p-value\n",
    "    p_value = np.min(np.array([2 * sts.norm.cdf(t), 2 - 2 * sts.norm.cdf(t)]), axis=0)\n",
    "    if (p_value > alpha / 2) and (p_value < (1 - alpha / 2)):\n",
    "        h0 = 0 # Accept H0\n",
    "    else:\n",
    "        h0 = 1 # Reject H0\n",
    "    return r, p_value, h0"
   ],
   "outputs": [],
   "metadata": {}
  },
  {
   "cell_type": "code",
   "execution_count": 58,
   "source": [
    "print(correlation_test(x1, y1))\n",
    "sts.pearsonr(x1, y1)"
   ],
   "outputs": [
    {
     "output_type": "stream",
     "name": "stdout",
     "text": [
      "(0.49292717213363874, 8.25367137302635e-07, 1)\n"
     ]
    },
    {
     "output_type": "execute_result",
     "data": {
      "text/plain": [
       "(0.4929271721336387, 1.8886327477096312e-07)"
      ]
     },
     "metadata": {},
     "execution_count": 58
    }
   ],
   "metadata": {}
  },
  {
   "cell_type": "code",
   "execution_count": 59,
   "source": [
    "print(correlation_test(x2, y2))\n",
    "sts.pearsonr(x2, y2)"
   ],
   "outputs": [
    {
     "output_type": "stream",
     "name": "stdout",
     "text": [
      "(-0.23571756867081395, 0.01841453243636595, 1)\n"
     ]
    },
    {
     "output_type": "execute_result",
     "data": {
      "text/plain": [
       "(-0.23571756867081395, 0.01823011500953986)"
      ]
     },
     "metadata": {},
     "execution_count": 59
    }
   ],
   "metadata": {}
  },
  {
   "cell_type": "code",
   "execution_count": 60,
   "source": [
    "print(correlation_test(x3, y3))\n",
    "sts.pearsonr(x3, y3)"
   ],
   "outputs": [
    {
     "output_type": "stream",
     "name": "stdout",
     "text": [
      "(-0.02113004662649407, 0.8326528191108498, 0)\n"
     ]
    },
    {
     "output_type": "execute_result",
     "data": {
      "text/plain": [
       "(-0.02113004662649409, 0.8347080635116283)"
      ]
     },
     "metadata": {},
     "execution_count": 60
    }
   ],
   "metadata": {}
  },
  {
   "cell_type": "markdown",
   "source": [
    "Критерий спирмана"
   ],
   "metadata": {}
  },
  {
   "cell_type": "code",
   "execution_count": 103,
   "source": [
    "def spearman(x, y, alpha=0.05):\n",
    "    n = len(x)\n",
    "    x_ranks = sts.rankdata(x)\n",
    "    y_ranks = sts.rankdata(y)\n",
    "\n",
    "    s = np.sum((x_ranks - y_ranks)**2)\n",
    "    # Spearman correlation coefficient\n",
    "    r = 1 - 6*s/(n**3 - n)\n",
    "    t = (n-1)**0.5 * r\n",
    "    p_value = np.min(np.array([2 * sts.norm.cdf(t), 2 - 2 * sts.norm.cdf(t)]), axis=0)\n",
    "    if (p_value > alpha / 2) and (p_value < (1 - alpha / 2)):\n",
    "        h0 = 0 # Accept H0\n",
    "    else:\n",
    "        h0 = 1 # Reject H0\n",
    "    return r, p_value, h0"
   ],
   "outputs": [],
   "metadata": {}
  },
  {
   "cell_type": "code",
   "execution_count": 104,
   "source": [
    "print(spearman(x1, y1))\n",
    "print(sts.spearmanr(x1, y1))"
   ],
   "outputs": [
    {
     "output_type": "stream",
     "name": "stdout",
     "text": [
      "(0.463966396639664, 3.904401947751879e-06, 1)\n",
      "SpearmanrResult(correlation=0.46396639663966394, pvalue=1.1629094496771656e-06)\n"
     ]
    }
   ],
   "metadata": {}
  },
  {
   "cell_type": "code",
   "execution_count": 63,
   "source": [
    "print(spearman(x2, y2))\n",
    "print(sts.spearmanr(x2, y2))"
   ],
   "outputs": [
    {
     "output_type": "stream",
     "name": "stdout",
     "text": [
      "(-0.2572337233723372, 0.010483997721181804, 1)\n",
      "SpearmanrResult(correlation=-0.2572337233723372, pvalue=0.009776720961015685)\n"
     ]
    }
   ],
   "metadata": {}
  },
  {
   "cell_type": "code",
   "execution_count": 64,
   "source": [
    "print(spearman(x3, y3))\n",
    "print(sts.spearmanr(x3, y3))"
   ],
   "outputs": [
    {
     "output_type": "stream",
     "name": "stdout",
     "text": [
      "(0.01098109810981096, 0.9129958384108221, 0)\n",
      "SpearmanrResult(correlation=0.010981098109810981, pvalue=0.9136517171776963)\n"
     ]
    }
   ],
   "metadata": {}
  },
  {
   "cell_type": "markdown",
   "source": [
    "Критерий Хи-квадрат Пирсона\n",
    "\n",
    "Критерий Хи-квадрат Пирсона используется, если признаки ненормальны, подозревается\n",
    "немонотонная нелинейная зависимость."
   ],
   "metadata": {}
  },
  {
   "cell_type": "code",
   "execution_count": 76,
   "source": [
    "def to_nominal(x, k):\n",
    "    x_sort = np.sort(x)\n",
    "    x_in_scale = np.zeros(k)\n",
    "    slices = np.linspace(x_sort[0], x_sort[-1], k+1)\n",
    "    for i in range(k):\n",
    "        x_part = x[x >= slices[i]]\n",
    "        x_count = (x_part <= slices[i+1]).sum()\n",
    "        x_in_scale[i] = x_count\n",
    "    return x_in_scale"
   ],
   "outputs": [],
   "metadata": {}
  },
  {
   "cell_type": "code",
   "execution_count": 77,
   "source": [
    "def pirson(x, y, alpha=0.05):\n",
    "    n = len(x)\n",
    "    x_nom, y_nom = to_nominal(x, 5), to_nominal(y, 5)\n",
    "    matrix = np.concatenate(([x_nom], [y_nom]))\n",
    "    chi_square_value = 0\n",
    "\n",
    "    for i in range(2):\n",
    "        for j in range(len(x_nom)):\n",
    "            chi_square_value += (matrix[i][j] - (np.sum(matrix[i]) * np.sum(matrix[:,j]) / np.sum(matrix))) ** 2 \\\n",
    "            / (np.sum(matrix[i]) * np.sum(matrix[:,j]) / np.sum(matrix))\n",
    "\n",
    "    # Cumulative distribution function\n",
    "    p_value = 1 - sts.chi2.cdf(chi_square_value, (len(x_nom) - 1))\n",
    "    if p_value > alpha:\n",
    "        h0_true = 0 # Accept H0\n",
    "    else:\n",
    "        h0_true = 1 # Reject H0\n",
    "    return chi_square_value, p_value, h0_true"
   ],
   "outputs": [],
   "metadata": {}
  },
  {
   "cell_type": "code",
   "execution_count": 82,
   "source": [
    "print(pirson(x1, y1))\n",
    "chi2_contingency([to_nominal(x1, 5), to_nominal(y1, 5)])\n",
    "\n",
    "# - chi2float\n",
    "#       The test statistic.\n",
    "\n",
    "# - pfloat\n",
    "#       The p-value of the test\n",
    "\n",
    "# - dofint\n",
    "#       Degrees of freedom\n",
    "\n",
    "# - expected\n",
    "#       The expected frequencies, based on the marginal sums of the table."
   ],
   "outputs": [
    {
     "output_type": "stream",
     "name": "stdout",
     "text": [
      "(7.120186896039078, 0.12967158012997693, 0)\n"
     ]
    },
    {
     "output_type": "execute_result",
     "data": {
      "text/plain": [
       "(7.120186896039078,\n",
       " 0.12967158012997695,\n",
       " 4,\n",
       " array([[ 5. , 21.5, 36.5, 27. , 10. ],\n",
       "        [ 5. , 21.5, 36.5, 27. , 10. ]]))"
      ]
     },
     "metadata": {},
     "execution_count": 82
    }
   ],
   "metadata": {}
  },
  {
   "cell_type": "code",
   "execution_count": 83,
   "source": [
    "print(pirson(x2, y2))\n",
    "chi2_contingency([to_nominal(x2, 5), to_nominal(y2, 5)])"
   ],
   "outputs": [
    {
     "output_type": "stream",
     "name": "stdout",
     "text": [
      "(10.916071640777524, 0.02752362364608263, 1)\n"
     ]
    },
    {
     "output_type": "execute_result",
     "data": {
      "text/plain": [
       "(10.916071640777524,\n",
       " 0.027523623646082622,\n",
       " 4,\n",
       " array([[ 8.5, 20. , 31.5, 27.5, 12.5],\n",
       "        [ 8.5, 20. , 31.5, 27.5, 12.5]]))"
      ]
     },
     "metadata": {},
     "execution_count": 83
    }
   ],
   "metadata": {}
  },
  {
   "cell_type": "code",
   "execution_count": 84,
   "source": [
    "print(pirson(x3, y3))\n",
    "chi2_contingency([to_nominal(x3, 5), to_nominal(y3, 5)])"
   ],
   "outputs": [
    {
     "output_type": "stream",
     "name": "stdout",
     "text": [
      "(57.63709273182958, 9.09394781700712e-12, 1)\n"
     ]
    },
    {
     "output_type": "execute_result",
     "data": {
      "text/plain": [
       "(57.63709273182958,\n",
       " 9.093913205533452e-12,\n",
       " 4,\n",
       " array([[15. , 17. , 31.5, 17.5, 19. ],\n",
       "        [15. , 17. , 31.5, 17.5, 19. ]]))"
      ]
     },
     "metadata": {},
     "execution_count": 84
    }
   ],
   "metadata": {}
  },
  {
   "cell_type": "markdown",
   "source": [
    "Подсчёт ошибок 2-го рода"
   ],
   "metadata": {}
  },
  {
   "cell_type": "code",
   "execution_count": 88,
   "source": [
    "def beta_errors(num_experiments, f, mu, sigma, size):\n",
    "    correlation  = []\n",
    "    spearman_res = []\n",
    "    pirson_res   = []\n",
    "    for i in range(num_experiments):\n",
    "        x, y = f(mu, sigma, size)\n",
    "        correlation.append(correlation_test(x, y)[2])\n",
    "        spearman_res.append(spearman(x, y)[2])\n",
    "        pirson_res.append(pirson(x, y)[2])\n",
    "\n",
    "    cor_freq        = (num_experiments - sum(correlation))  / num_experiments\n",
    "    spearman_freq   = (num_experiments - sum(spearman_res)) / num_experiments\n",
    "    pirson_freq     = (num_experiments - sum(pirson_res))   / num_experiments\n",
    "    \n",
    "    return cor_freq, spearman_freq, pirson_freq"
   ],
   "outputs": [],
   "metadata": {}
  },
  {
   "cell_type": "code",
   "execution_count": 89,
   "source": [
    "mu    = 5\n",
    "sigma = 10\n",
    "size  = 100"
   ],
   "outputs": [],
   "metadata": {}
  },
  {
   "cell_type": "code",
   "execution_count": 101,
   "source": [
    "cor_freq, spearman_freq, chi2_pirson_freq = beta_errors(1000, gaussian_linear_monotone, mu, sigma, size)\n",
    "print(\"gaussian_linear_monotone\")\n",
    "print(\"correlation_test=\", cor_freq)\n",
    "print(\"spearman_test=\", spearman_freq)\n",
    "print(\"chi2_pirson_test=\", chi2_pirson_freq)\n"
   ],
   "outputs": [
    {
     "output_type": "stream",
     "name": "stdout",
     "text": [
      "gaussian_linear_monotone\n",
      "correlation_test= 0.0\n",
      "spearman_test= 0.001\n",
      "chi2_pirson_test= 0.636\n"
     ]
    }
   ],
   "metadata": {}
  },
  {
   "cell_type": "code",
   "execution_count": 97,
   "source": [
    "cor_freq, spearman_freq, pirson_freq = beta_errors(1000, notgaussian_notlinear_monotone, mu, sigma, size)\n",
    "print(\"notgaussian_notlinear_monotone\")\n",
    "print(\"correlation_test=\", cor_freq)\n",
    "print(\"spearman_test=\", spearman_freq)\n",
    "print(\"chi2_pirson_test=\", chi2_pirson_freq)"
   ],
   "outputs": [
    {
     "output_type": "stream",
     "name": "stdout",
     "text": [
      "notgaussian_notlinear_monotone\n",
      "correlation_test= 0.947\n",
      "spearman_test= 0.951\n",
      "pirson_test= 0.555\n"
     ]
    }
   ],
   "metadata": {}
  },
  {
   "cell_type": "code",
   "execution_count": 102,
   "source": [
    "cor_freq, spearman_freq, chi2_pirson_freq = beta_errors(1000, notgaussian_notlinear_notmonotone, mu, sigma, size)\n",
    "print(\"notgaussian_notlinear_notmonotone\")\n",
    "print(\"correlation_test=\", cor_freq)\n",
    "print(\"spearman_test=\", spearman_freq)\n",
    "print(\"chi2_pirson_test=\", chi2_pirson_freq)"
   ],
   "outputs": [
    {
     "output_type": "stream",
     "name": "stdout",
     "text": [
      "notgaussian_notlinear_notmonotone\n",
      "correlation_test= 0.955\n",
      "spearman_test= 0.95\n",
      "chi2_pirson_test= 0.0\n"
     ]
    }
   ],
   "metadata": {}
  }
 ],
 "metadata": {
  "orig_nbformat": 4,
  "language_info": {
   "name": "python",
   "version": "3.8.10",
   "mimetype": "text/x-python",
   "codemirror_mode": {
    "name": "ipython",
    "version": 3
   },
   "pygments_lexer": "ipython3",
   "nbconvert_exporter": "python",
   "file_extension": ".py"
  },
  "kernelspec": {
   "name": "python3",
   "display_name": "Python 3.8.10 64-bit"
  },
  "interpreter": {
   "hash": "916dbcbb3f70747c44a77c7bcd40155683ae19c65e1c03b4aa3499c5328201f1"
  }
 },
 "nbformat": 4,
 "nbformat_minor": 2
}